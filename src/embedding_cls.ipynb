{
 "cells": [
  {
   "cell_type": "markdown",
   "metadata": {},
   "source": [
    "# Classification with BERT features"
   ]
  },
  {
   "cell_type": "code",
   "execution_count": 28,
   "metadata": {},
   "outputs": [],
   "source": [
    "import pandas as pd\n",
    "import numpy as np\n",
    "import ast\n",
    "import seaborn as sns\n",
    "import matplotlib.pyplot as plt\n",
    "\n",
    "from sklearn.model_selection import train_test_split\n",
    "from sklearn.model_selection import GridSearchCV\n",
    "from sklearn.pipeline import Pipeline\n",
    "from sklearn.linear_model import LogisticRegression\n",
    "from sklearn.naive_bayes import MultinomialNB\n",
    "from sklearn.ensemble import RandomForestClassifier\n",
    "from sklearn.svm import LinearSVC\n",
    "from sklearn.metrics import confusion_matrix"
   ]
  },
  {
   "cell_type": "code",
   "execution_count": 8,
   "metadata": {},
   "outputs": [],
   "source": [
    "seed = 2020\n",
    "\n",
    "df = pd.read_csv('../data/embeded/10000_amazon_reviews_bert.csv')\n",
    "text_column = 'bert_embedding_mean'\n",
    "label_column = 'label'"
   ]
  },
  {
   "cell_type": "code",
   "execution_count": 9,
   "metadata": {},
   "outputs": [
    {
     "data": {
      "text/html": [
       "<div>\n",
       "<style scoped>\n",
       "    .dataframe tbody tr th:only-of-type {\n",
       "        vertical-align: middle;\n",
       "    }\n",
       "\n",
       "    .dataframe tbody tr th {\n",
       "        vertical-align: top;\n",
       "    }\n",
       "\n",
       "    .dataframe thead th {\n",
       "        text-align: right;\n",
       "    }\n",
       "</style>\n",
       "<table border=\"1\" class=\"dataframe\">\n",
       "  <thead>\n",
       "    <tr style=\"text-align: right;\">\n",
       "      <th></th>\n",
       "      <th>bert_embedding_mean</th>\n",
       "      <th>label</th>\n",
       "    </tr>\n",
       "  </thead>\n",
       "  <tbody>\n",
       "    <tr>\n",
       "      <th>0</th>\n",
       "      <td>[-0.05508401244878769, -0.3134291172027588, 0....</td>\n",
       "      <td>0</td>\n",
       "    </tr>\n",
       "    <tr>\n",
       "      <th>1</th>\n",
       "      <td>[0.1425568014383316, -0.33367687463760376, 0.3...</td>\n",
       "      <td>0</td>\n",
       "    </tr>\n",
       "    <tr>\n",
       "      <th>2</th>\n",
       "      <td>[0.009576206095516682, -0.34511327743530273, 0...</td>\n",
       "      <td>0</td>\n",
       "    </tr>\n",
       "  </tbody>\n",
       "</table>\n",
       "</div>"
      ],
      "text/plain": [
       "                                 bert_embedding_mean  label\n",
       "0  [-0.05508401244878769, -0.3134291172027588, 0....      0\n",
       "1  [0.1425568014383316, -0.33367687463760376, 0.3...      0\n",
       "2  [0.009576206095516682, -0.34511327743530273, 0...      0"
      ]
     },
     "execution_count": 9,
     "metadata": {},
     "output_type": "execute_result"
    }
   ],
   "source": [
    "df.head(3)"
   ]
  },
  {
   "cell_type": "markdown",
   "metadata": {},
   "source": [
    " ### Class distribution"
   ]
  },
  {
   "cell_type": "code",
   "execution_count": 10,
   "metadata": {},
   "outputs": [
    {
     "data": {
      "text/plain": [
       "<matplotlib.axes._subplots.AxesSubplot at 0x12cfc3cf8>"
      ]
     },
     "execution_count": 10,
     "metadata": {},
     "output_type": "execute_result"
    },
    {
     "data": {
      "image/png": "[encoded data removed]",
      "text/plain": [
       "<Figure size 432x288 with 1 Axes>"
      ]
     },
     "metadata": {
      "needs_background": "light"
     },
     "output_type": "display_data"
    }
   ],
   "source": [
    "df[label_column].value_counts().plot.bar(title='Classes distribution')"
   ]
  },
  {
   "cell_type": "markdown",
   "metadata": {},
   "source": [
    "### Train-test split"
   ]
  },
  {
   "cell_type": "code",
   "execution_count": 11,
   "metadata": {},
   "outputs": [
    {
     "name": "stdout",
     "output_type": "stream",
     "text": [
      "Train size: (7001, 768)\n",
      "Test size: (3001, 768)\n"
     ]
    }
   ],
   "source": [
    "X = np.array(df[text_column].transform(ast.literal_eval).values.tolist())\n",
    "y = df[label_column].values\n",
    "test_size = 0.3\n",
    "\n",
    "X_train, X_test, y_train, y_test = train_test_split(X, y, stratify=y, random_state=seed, \n",
    "                                                    test_size=test_size, shuffle=True)\n",
    "print('Train size: {}'.format(X_train.shape))\n",
    "print('Test size: {}'.format(X_test.shape))"
   ]
  },
  {
   "cell_type": "markdown",
   "metadata": {},
   "source": [
    "# Classification with BERT features"
   ]
  },
  {
   "cell_type": "code",
   "execution_count": 12,
   "metadata": {},
   "outputs": [],
   "source": [
    "# # To Use!\n",
    "# hyperparams_grid = {\n",
    "#     'LogisticRegression': {\n",
    "#         'clf__C': [0.001, 0.01, 0.1, 1, 10, 100],\n",
    "#         'clf__penalty': ['l1', 'l2'],\n",
    "#         'clf__class_weight': ['balanced', {0: 1, 1: 2}, {0: 1, 1: 4}]\n",
    "#     },\n",
    "#     'MultinomialNB': {\n",
    "#         'clf__alpha': [0.001, 0.01, 0.1, 1, 10, 100]\n",
    "#     },\n",
    "#     'LinearSVC': {\n",
    "#         'clf__C': [0.001, 0.01, 0.1, 1, 10, 100],\n",
    "#         'clf__penalty': ['l1', 'l2'],\n",
    "#         'clf__loss': ['hinge', 'squared_hinge'],\n",
    "#         'clf__class_weight': ['balanced', {0: 1, 1: 2}, {0: 1, 1: 4}]\n",
    "#     },\n",
    "#     'RandomForestClassifier': {\n",
    "#         'clf__n_estimators': [200, 400, 600, 800, 1000, 1200, 1400, 1600, 1800, 2000],\n",
    "#         'clf__bootstrap': [True, False],\n",
    "#         'clf__max_depth': [10, 50, 100, None],\n",
    "#         'clf__max_features': ['auto', 'sqrt'],\n",
    "#         'clf__min_samples_leaf': [1, 2, 4],\n",
    "#         'clf__min_samples_split': [2, 5, 10],\n",
    "#         'clf__class_weight': ['balanced', {0: 1, 1: 2}, {0: 1, 1: 4}]\n",
    "#     }\n",
    "# }\n",
    "\n",
    "# hyperparams grid simplified\n",
    "hyperparams_grid = {\n",
    " 'LogisticRegression': {\n",
    "        'clf__C': [1, 2, 3],\n",
    "        'clf__penalty': ['l2', 'l1'],\n",
    "        'clf__class_weight': [{0: 1, 1: 4}, {0: 1, 1: 5}]},\n",
    " 'MultinomialNB': {\n",
    "        'clf__alpha': [0.01, 0.1, 1]\n",
    "    },\n",
    " 'LinearSVC': {\n",
    "        'clf__C': [0.1],\n",
    "        'clf__penalty': ['l2'],\n",
    "        'clf__loss': ['squared_hinge'],\n",
    "        'clf__class_weight': ['balanced']\n",
    "    },\n",
    " 'RandomForestClassifier': {\n",
    "    'clf__n_estimators': [600],\n",
    "    'clf__bootstrap': [False],\n",
    "    'clf__max_depth': [None],\n",
    "    'clf__max_features': ['auto'],\n",
    "    'clf__min_samples_leaf': [2],\n",
    "    'clf__min_samples_split': [2],\n",
    "    'clf__class_weight': ['balanced']\n",
    "    }\n",
    "}"
   ]
  },
  {
   "cell_type": "code",
   "execution_count": 13,
   "metadata": {},
   "outputs": [
    {
     "name": "stderr",
     "output_type": "stream",
     "text": [
      "/Users/evgeny/Documents/wonderful_programming/crowd_ai_env/lib/python3.7/site-packages/sklearn/linear_model/_logistic.py:939: ConvergenceWarning: lbfgs failed to converge (status=1):\n",
      "STOP: TOTAL NO. of ITERATIONS REACHED LIMIT.\n",
      "\n",
      "Increase the number of iterations (max_iter) or scale the data as shown in:\n",
      "    https://scikit-learn.org/stable/modules/preprocessing.html.\n",
      "Please also refer to the documentation for alternative solver options:\n",
      "    https://scikit-learn.org/stable/modules/linear_model.html#logistic-regression\n",
      "  extra_warning_msg=_LOGISTIC_SOLVER_CONVERGENCE_MSG)\n"
     ]
    },
    {
     "name": "stdout",
     "output_type": "stream",
     "text": [
      "LogisticRegression f1:0.593 std: 0.028, using {'clf__C': 1, 'clf__class_weight': {0: 1, 1: 4}, 'clf__penalty': 'l2'}\n",
      "------------------------------------------------\n",
      "LinearSVC f1:0.531 std: 0.030, using {'clf__C': 0.1, 'clf__class_weight': 'balanced', 'clf__loss': 'squared_hinge', 'clf__penalty': 'l2'}\n",
      "------------------------------------------------\n",
      "RandomForestClassifier f1:0.148 std: 0.037, using {'clf__bootstrap': False, 'clf__class_weight': 'balanced', 'clf__max_depth': None, 'clf__max_features': 'auto', 'clf__min_samples_leaf': 2, 'clf__min_samples_split': 2, 'clf__n_estimators': 600}\n",
      "------------------------------------------------\n"
     ]
    }
   ],
   "source": [
    "models = [LogisticRegression(random_state=seed),\n",
    "          LinearSVC(random_state=seed),\n",
    "          RandomForestClassifier(random_state=seed)]\n",
    "\n",
    "k = 5  # number of splits in CV\n",
    "cv_res = []\n",
    "\n",
    "for model in models: \n",
    "    pipeline  = Pipeline([\n",
    "    ('clf', model)])\n",
    "    \n",
    "    model_name = model.__class__.__name__\n",
    "    param_grid = hyperparams_grid[model_name]\n",
    "    grid = GridSearchCV(pipeline, cv=k, param_grid=param_grid, scoring='f1', n_jobs=-1, verbose=0)\n",
    "    grid.fit(X_train, y_train)\n",
    "\n",
    "    score_mean = grid.cv_results_['mean_test_score'][grid.best_index_]\n",
    "    score_std = grid.cv_results_['std_test_score'][grid.best_index_]\n",
    "    cv_res.append((model_name, score_mean, score_std, grid.best_params_))\n",
    "    print('{} f1:{:1.3f} std: {:1.3f}, using {}'.format(model_name, score_mean, score_std, grid.best_params_))\n",
    "    print('------------------------------------------------')"
   ]
  },
  {
   "cell_type": "code",
   "execution_count": 14,
   "metadata": {},
   "outputs": [
    {
     "data": {
      "text/html": [
       "<div>\n",
       "<style scoped>\n",
       "    .dataframe tbody tr th:only-of-type {\n",
       "        vertical-align: middle;\n",
       "    }\n",
       "\n",
       "    .dataframe tbody tr th {\n",
       "        vertical-align: top;\n",
       "    }\n",
       "\n",
       "    .dataframe thead th {\n",
       "        text-align: right;\n",
       "    }\n",
       "</style>\n",
       "<table border=\"1\" class=\"dataframe\">\n",
       "  <thead>\n",
       "    <tr style=\"text-align: right;\">\n",
       "      <th></th>\n",
       "      <th>f1_mean</th>\n",
       "      <th>f1_std</th>\n",
       "    </tr>\n",
       "    <tr>\n",
       "      <th>model</th>\n",
       "      <th></th>\n",
       "      <th></th>\n",
       "    </tr>\n",
       "  </thead>\n",
       "  <tbody>\n",
       "    <tr>\n",
       "      <th>LogisticRegression</th>\n",
       "      <td>0.593017</td>\n",
       "      <td>0.027860</td>\n",
       "    </tr>\n",
       "    <tr>\n",
       "      <th>LinearSVC</th>\n",
       "      <td>0.530662</td>\n",
       "      <td>0.030412</td>\n",
       "    </tr>\n",
       "    <tr>\n",
       "      <th>RandomForestClassifier</th>\n",
       "      <td>0.148470</td>\n",
       "      <td>0.036964</td>\n",
       "    </tr>\n",
       "  </tbody>\n",
       "</table>\n",
       "</div>"
      ],
      "text/plain": [
       "                         f1_mean    f1_std\n",
       "model                                     \n",
       "LogisticRegression      0.593017  0.027860\n",
       "LinearSVC               0.530662  0.030412\n",
       "RandomForestClassifier  0.148470  0.036964"
      ]
     },
     "execution_count": 14,
     "metadata": {},
     "output_type": "execute_result"
    }
   ],
   "source": [
    "cv_df = pd.DataFrame(cv_res, columns=['model', 'f1_mean', 'f1_std', 'best_params']).set_index('model')\n",
    "cv_df[['f1_mean', 'f1_std']]"
   ]
  },
  {
   "cell_type": "markdown",
   "metadata": {},
   "source": [
    "# Model Evaluation"
   ]
  },
  {
   "cell_type": "code",
   "execution_count": 16,
   "metadata": {},
   "outputs": [
    {
     "name": "stderr",
     "output_type": "stream",
     "text": [
      "/Users/evgeny/Documents/wonderful_programming/crowd_ai_env/lib/python3.7/site-packages/sklearn/linear_model/_logistic.py:939: ConvergenceWarning: lbfgs failed to converge (status=1):\n",
      "STOP: TOTAL NO. of ITERATIONS REACHED LIMIT.\n",
      "\n",
      "Increase the number of iterations (max_iter) or scale the data as shown in:\n",
      "    https://scikit-learn.org/stable/modules/preprocessing.html.\n",
      "Please also refer to the documentation for alternative solver options:\n",
      "    https://scikit-learn.org/stable/modules/linear_model.html#logistic-regression\n",
      "  extra_warning_msg=_LOGISTIC_SOLVER_CONVERGENCE_MSG)\n"
     ]
    }
   ],
   "source": [
    "model = LogisticRegression(C=10, penalty='l2', class_weight='balanced', random_state=seed)\n",
    "# model = LinearSVC(C=1, penalty='l2', class_weight='balanced', loss='squared_hinge', random_state=seed)\n",
    "model.fit(X_train, y_train)\n",
    "y_pred = model.predict(X_test)"
   ]
  },
  {
   "cell_type": "markdown",
   "metadata": {},
   "source": [
    "### Evaluate Model"
   ]
  },
  {
   "cell_type": "code",
   "execution_count": 17,
   "metadata": {},
   "outputs": [
    {
     "name": "stdout",
     "output_type": "stream",
     "text": [
      "*Evaluation on test data, LogisticRegression*\n",
      "f1:  0.5452380952380953\n",
      "Precision:  0.4232902033271719\n",
      "Recall:  0.7658862876254181\n"
     ]
    }
   ],
   "source": [
    "precision, recall, f1, _ = precision_recall_fscore_support(y_test, y_pred, average='binary', beta=1)\n",
    "print('*Evaluation on test data, {}*'.format(model.__class__.__name__))\n",
    "print('f1: ', f1)\n",
    "print('Precision: ', precision)\n",
    "print('Recall: ', recall)"
   ]
  },
  {
   "cell_type": "markdown",
   "metadata": {},
   "source": [
    "### Confusion Matrix"
   ]
  },
  {
   "cell_type": "code",
   "execution_count": 29,
   "metadata": {},
   "outputs": [
    {
     "data": {
      "image/png": "[encoded data removed]",
      "text/plain": [
       "<Figure size 360x360 with 2 Axes>"
      ]
     },
     "metadata": {
      "needs_background": "light"
     },
     "output_type": "display_data"
    }
   ],
   "source": [
    "conf_mat = confusion_matrix(y_test, y_pred)\n",
    "fig, ax = plt.subplots(figsize=(5,5))\n",
    "labels = df[label_column].unique()\n",
    "sns.heatmap(conf_mat, annot=True, cmap=\"Blues\", fmt='d',\n",
    "            xticklabels=labels, yticklabels=labels)\n",
    "plt.ylabel('Actual')\n",
    "plt.xlabel('Predicted')\n",
    "plt.title(\"CONFUSION MATRIX - {}\".format(model.__class__.__name__), size=14);"
   ]
  },
  {
   "cell_type": "code",
   "execution_count": null,
   "metadata": {},
   "outputs": [],
   "source": []
  }
 ],
 "metadata": {
  "kernelspec": {
   "display_name": "Python 3",
   "language": "python",
   "name": "python3"
  },
  "language_info": {
   "codemirror_mode": {
    "name": "ipython",
    "version": 3
   },
   "file_extension": ".py",
   "mimetype": "text/x-python",
   "name": "python",
   "nbconvert_exporter": "python",
   "pygments_lexer": "ipython3",
   "version": "3.7.3"
  }
 },
 "nbformat": 4,
 "nbformat_minor": 4
}
