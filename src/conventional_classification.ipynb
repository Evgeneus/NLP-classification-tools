{
 "cells": [
  {
   "cell_type": "markdown",
   "metadata": {},
   "source": [
    "# Conventional classification"
   ]
  },
  {
   "cell_type": "code",
   "execution_count": 30,
   "metadata": {},
   "outputs": [],
   "source": [
    "import pandas as pd\n",
    "import numpy as np\n",
    "import matplotlib.pyplot as plt\n",
    "import seaborn as sns\n",
    "\n",
    "from sklearn.feature_extraction.text import CountVectorizer, TfidfVectorizer\n",
    "from sklearn.pipeline import Pipeline\n",
    "from sklearn.model_selection import GridSearchCV\n",
    "from sklearn.model_selection import train_test_split\n",
    "from sklearn.model_selection import cross_val_score\n",
    "from sklearn.feature_selection import chi2\n",
    "from sklearn.metrics import precision_recall_fscore_support\n",
    "from sklearn.metrics import confusion_matrix\n",
    "\n",
    "from sklearn.linear_model import LogisticRegression\n",
    "from sklearn.naive_bayes import MultinomialNB\n",
    "from sklearn.ensemble import RandomForestClassifier\n",
    "from sklearn.svm import LinearSVC"
   ]
  },
  {
   "cell_type": "code",
   "execution_count": 2,
   "metadata": {},
   "outputs": [],
   "source": [
    "seed = 2020\n",
    "\n",
    "df = pd.read_csv('../data/clean/10000_amazon_reviews_cleaned_stem.csv')\n",
    "text_column = 'text'\n",
    "label_column = 'label'"
   ]
  },
  {
   "cell_type": "code",
   "execution_count": 3,
   "metadata": {},
   "outputs": [
    {
     "data": {
      "text/html": [
       "<div>\n",
       "<style scoped>\n",
       "    .dataframe tbody tr th:only-of-type {\n",
       "        vertical-align: middle;\n",
       "    }\n",
       "\n",
       "    .dataframe tbody tr th {\n",
       "        vertical-align: top;\n",
       "    }\n",
       "\n",
       "    .dataframe thead th {\n",
       "        text-align: right;\n",
       "    }\n",
       "</style>\n",
       "<table border=\"1\" class=\"dataframe\">\n",
       "  <thead>\n",
       "    <tr style=\"text-align: right;\">\n",
       "      <th></th>\n",
       "      <th>text</th>\n",
       "      <th>label</th>\n",
       "    </tr>\n",
       "  </thead>\n",
       "  <tbody>\n",
       "    <tr>\n",
       "      <th>0</th>\n",
       "      <td>order short husband love fabric soft comfort c...</td>\n",
       "      <td>0</td>\n",
       "    </tr>\n",
       "    <tr>\n",
       "      <th>1</th>\n",
       "      <td>ninewest certainli know make great shoe high p...</td>\n",
       "      <td>0</td>\n",
       "    </tr>\n",
       "    <tr>\n",
       "      <th>2</th>\n",
       "      <td>look shaper great fit boot perfectli deliv wit...</td>\n",
       "      <td>0</td>\n",
       "    </tr>\n",
       "  </tbody>\n",
       "</table>\n",
       "</div>"
      ],
      "text/plain": [
       "                                                text  label\n",
       "0  order short husband love fabric soft comfort c...      0\n",
       "1  ninewest certainli know make great shoe high p...      0\n",
       "2  look shaper great fit boot perfectli deliv wit...      0"
      ]
     },
     "execution_count": 3,
     "metadata": {},
     "output_type": "execute_result"
    }
   ],
   "source": [
    "df.head(3)"
   ]
  },
  {
   "cell_type": "markdown",
   "metadata": {},
   "source": [
    " ### Class distribution"
   ]
  },
  {
   "cell_type": "code",
   "execution_count": 4,
   "metadata": {},
   "outputs": [
    {
     "data": {
      "text/plain": [
       "<matplotlib.axes._subplots.AxesSubplot at 0x11171bcf8>"
      ]
     },
     "execution_count": 4,
     "metadata": {},
     "output_type": "execute_result"
    },
    {
     "data": {
      "image/png": "[encoded data removed]",
      "text/plain": [
       "<Figure size 432x288 with 1 Axes>"
      ]
     },
     "metadata": {
      "needs_background": "light"
     },
     "output_type": "display_data"
    }
   ],
   "source": [
    "df[label_column].value_counts().plot.bar(title='Classes distribution')"
   ]
  },
  {
   "cell_type": "markdown",
   "metadata": {},
   "source": [
    "# Classification with TF-IDF features"
   ]
  },
  {
   "cell_type": "markdown",
   "metadata": {},
   "source": [
    "### Train-test split"
   ]
  },
  {
   "cell_type": "code",
   "execution_count": 5,
   "metadata": {},
   "outputs": [
    {
     "name": "stdout",
     "output_type": "stream",
     "text": [
      "Train size: (7001,)\n",
      "Test size: (3001,)\n"
     ]
    }
   ],
   "source": [
    "X = df[text_column].values\n",
    "y = df[label_column].values\n",
    "test_size = 0.3\n",
    "\n",
    "X_train, X_test, y_train, y_test = train_test_split(X, y, stratify=y, random_state=seed, \n",
    "                                                    test_size=test_size, shuffle=True)\n",
    "print('Train size: {}'.format(X_train.shape))\n",
    "print('Test size: {}'.format(X_test.shape))"
   ]
  },
  {
   "cell_type": "markdown",
   "metadata": {},
   "source": [
    "## Grid search of hyperparameters for the models + TF-IDF features"
   ]
  },
  {
   "cell_type": "code",
   "execution_count": 20,
   "metadata": {},
   "outputs": [],
   "source": [
    "# # To Use!\n",
    "# hyperparams_grid = {\n",
    "#     'LogisticRegression': {\n",
    "#         'clf__C': [0.001, 0.01, 0.1, 1, 10, 100],\n",
    "#         'clf__penalty': ['l1', 'l2'],\n",
    "#         'clf__class_weight': ['balanced', {0: 1, 1: 2}, {0: 1, 1: 4}]\n",
    "#     },\n",
    "#     'MultinomialNB': {\n",
    "#         'clf__alpha': [0.001, 0.01, 0.1, 1, 10, 100]\n",
    "#     },\n",
    "#     'LinearSVC': {\n",
    "#         'clf__C': [0.001, 0.01, 0.1, 1, 10, 100],\n",
    "#         'clf__penalty': ['l1', 'l2'],\n",
    "#         'clf__loss': ['hinge', 'squared_hinge'],\n",
    "#         'clf__class_weight': ['balanced', {0: 1, 1: 2}, {0: 1, 1: 4}]\n",
    "#     },\n",
    "#     'RandomForestClassifier': {\n",
    "#         'clf__n_estimators': [200, 400, 600, 800, 1000, 1200, 1400, 1600, 1800, 2000],\n",
    "#         'clf__bootstrap': [True, False],\n",
    "#         'clf__max_depth': [10, 50, 100, None],\n",
    "#         'clf__max_features': ['auto', 'sqrt'],\n",
    "#         'clf__min_samples_leaf': [1, 2, 4],\n",
    "#         'clf__min_samples_split': [2, 5, 10],\n",
    "#         'clf__class_weight': ['balanced', {0: 1, 1: 2}, {0: 1, 1: 4}]\n",
    "#     }\n",
    "# }\n",
    "\n",
    "# To comment!\n",
    "# hyperparams grid simplified\n",
    "hyperparams_grid = {\n",
    " 'LogisticRegression': {\n",
    "        'clf__C': [1],\n",
    "        'clf__penalty': ['l2'],\n",
    "        'clf__class_weight': ['balanced']},\n",
    " 'MultinomialNB': {\n",
    "        'clf__alpha': [0.01, 0.1, 1]\n",
    "    },\n",
    " 'LinearSVC': {\n",
    "        'clf__C': [0.1],\n",
    "        'clf__penalty': ['l2'],\n",
    "        'clf__loss': ['squared_hinge'],\n",
    "        'clf__class_weight': ['balanced']\n",
    "    },\n",
    " 'RandomForestClassifier': {\n",
    "    'clf__n_estimators': [600],\n",
    "    'clf__bootstrap': [False],\n",
    "    'clf__max_depth': [None],\n",
    "    'clf__max_features': ['auto'],\n",
    "    'clf__min_samples_leaf': [2],\n",
    "    'clf__min_samples_split': [2],\n",
    "    'clf__class_weight': ['balanced']\n",
    "    }\n",
    "}"
   ]
  },
  {
   "cell_type": "code",
   "execution_count": 22,
   "metadata": {},
   "outputs": [
    {
     "name": "stdout",
     "output_type": "stream",
     "text": [
      "LogisticRegression f1:0.622 std: 0.049, using {'clf__C': 1, 'clf__class_weight': 'balanced', 'clf__penalty': 'l2', 'tfidf__max_features': None, 'tfidf__ngram_range': (1, 3)}\n",
      "------------------------------------------------\n",
      "MultinomialNB f1:0.158 std: 0.045, using {'clf__alpha': 0.01, 'tfidf__max_features': None, 'tfidf__ngram_range': (1, 3)}\n",
      "------------------------------------------------\n",
      "LinearSVC f1:0.625 std: 0.043, using {'clf__C': 0.1, 'clf__class_weight': 'balanced', 'clf__loss': 'squared_hinge', 'clf__penalty': 'l2', 'tfidf__max_features': None, 'tfidf__ngram_range': (1, 3)}\n",
      "------------------------------------------------\n",
      "RandomForestClassifier f1:0.359 std: 0.031, using {'clf__bootstrap': False, 'clf__class_weight': 'balanced', 'clf__max_depth': None, 'clf__max_features': 'auto', 'clf__min_samples_leaf': 2, 'clf__min_samples_split': 2, 'clf__n_estimators': 600, 'tfidf__max_features': None, 'tfidf__ngram_range': (1, 3)}\n",
      "------------------------------------------------\n"
     ]
    }
   ],
   "source": [
    "models = [LogisticRegression(random_state=seed),\n",
    "          MultinomialNB(),\n",
    "          LinearSVC(random_state=seed),\n",
    "          RandomForestClassifier(random_state=seed)]\n",
    "\n",
    "k = 5  # number of splits in CV\n",
    "cv_res = []\n",
    "\n",
    "param_vectorizer = {\n",
    "    'tfidf__max_features': [None],\n",
    "    'tfidf__ngram_range': [(1, 3)]}\n",
    "\n",
    "tfidf = TfidfVectorizer(min_df=3, max_features=None, \n",
    "            strip_accents='unicode', analyzer='word', token_pattern=r'\\w{1,}',\n",
    "            ngram_range=(1, 3), use_idf=1, smooth_idf=1, sublinear_tf=1,\n",
    "            stop_words = None, lowercase=False)\n",
    "\n",
    "for model in models: \n",
    "    pipeline  = Pipeline([\n",
    "    ('tfidf', tfidf),\n",
    "    ('clf', model)])\n",
    "    \n",
    "    model_name = model.__class__.__name__\n",
    "    param_grid = {**param_vectorizer, **hyperparams_grid[model_name]}\n",
    "    grid = GridSearchCV(pipeline, cv=k, param_grid=param_grid, scoring='f1', n_jobs=-1, verbose=0)\n",
    "    grid.fit(X_train, y_train)\n",
    "\n",
    "    score_mean = grid.cv_results_['mean_test_score'][grid.best_index_]\n",
    "    score_std = grid.cv_results_['std_test_score'][grid.best_index_]\n",
    "    cv_res.append((model_name, score_mean, score_std, grid.best_params_))\n",
    "    print('{} f1:{:1.3f} std: {:1.3f}, using {}'.format(model_name, score_mean, score_std, grid.best_params_))\n",
    "    print('------------------------------------------------')"
   ]
  },
  {
   "cell_type": "code",
   "execution_count": 23,
   "metadata": {},
   "outputs": [
    {
     "data": {
      "text/html": [
       "<div>\n",
       "<style scoped>\n",
       "    .dataframe tbody tr th:only-of-type {\n",
       "        vertical-align: middle;\n",
       "    }\n",
       "\n",
       "    .dataframe tbody tr th {\n",
       "        vertical-align: top;\n",
       "    }\n",
       "\n",
       "    .dataframe thead th {\n",
       "        text-align: right;\n",
       "    }\n",
       "</style>\n",
       "<table border=\"1\" class=\"dataframe\">\n",
       "  <thead>\n",
       "    <tr style=\"text-align: right;\">\n",
       "      <th></th>\n",
       "      <th>f1_mean</th>\n",
       "      <th>f1_std</th>\n",
       "    </tr>\n",
       "    <tr>\n",
       "      <th>model</th>\n",
       "      <th></th>\n",
       "      <th></th>\n",
       "    </tr>\n",
       "  </thead>\n",
       "  <tbody>\n",
       "    <tr>\n",
       "      <th>LogisticRegression</th>\n",
       "      <td>0.622248</td>\n",
       "      <td>0.048793</td>\n",
       "    </tr>\n",
       "    <tr>\n",
       "      <th>MultinomialNB</th>\n",
       "      <td>0.158325</td>\n",
       "      <td>0.044668</td>\n",
       "    </tr>\n",
       "    <tr>\n",
       "      <th>LinearSVC</th>\n",
       "      <td>0.624514</td>\n",
       "      <td>0.042966</td>\n",
       "    </tr>\n",
       "    <tr>\n",
       "      <th>RandomForestClassifier</th>\n",
       "      <td>0.358649</td>\n",
       "      <td>0.030626</td>\n",
       "    </tr>\n",
       "  </tbody>\n",
       "</table>\n",
       "</div>"
      ],
      "text/plain": [
       "                         f1_mean    f1_std\n",
       "model                                     \n",
       "LogisticRegression      0.622248  0.048793\n",
       "MultinomialNB           0.158325  0.044668\n",
       "LinearSVC               0.624514  0.042966\n",
       "RandomForestClassifier  0.358649  0.030626"
      ]
     },
     "execution_count": 23,
     "metadata": {},
     "output_type": "execute_result"
    }
   ],
   "source": [
    "cv_df = pd.DataFrame(cv_res, columns=['model', 'f1_mean', 'f1_std', 'best_params']).set_index('model')\n",
    "cv_df[['f1_mean', 'f1_std']]"
   ]
  },
  {
   "cell_type": "markdown",
   "metadata": {},
   "source": [
    "## Grid search of hyperparameters for the models + Counts features"
   ]
  },
  {
   "cell_type": "code",
   "execution_count": null,
   "metadata": {
    "scrolled": true
   },
   "outputs": [],
   "source": [
    "models = [LogisticRegression(random_state=seed),\n",
    "          MultinomialNB(),\n",
    "          LinearSVC(random_state=seed),\n",
    "          RandomForestClassifier(random_state=seed)]\n",
    "\n",
    "k = 5  # number of splits in CV\n",
    "cv_res = []\n",
    "\n",
    "count_vec = CountVectorizer(analyzer='word',token_pattern=r'\\w{1,}',\n",
    "            ngram_range=(1, 3), stop_words = None)\n",
    "\n",
    "param_vectorizer = {\n",
    "    'vect__ngram_range': [(1, 3)],\n",
    "    'vect__max_features': [None]\n",
    "}\n",
    "\n",
    "\n",
    "for model in models:\n",
    "    pipeline  = Pipeline([\n",
    "    ('vect', count_vec),\n",
    "    ('clf', model)])\n",
    "    \n",
    "    model_name = model.__class__.__name__\n",
    "    param_grid = {**param_vectorizer, **hyperparams_grid[model_name]}\n",
    "    print(param_grid)\n",
    "    grid = GridSearchCV(pipeline, cv=k, param_grid=param_grid, scoring='f1', n_jobs=-1, verbose=-1)\n",
    "    grid.fit(X_train, y_train)\n",
    "\n",
    "    score_mean = grid.cv_results_['mean_test_score'][grid.best_index_]\n",
    "    score_std = grid.cv_results_['std_test_score'][grid.best_index_]\n",
    "    cv_res.append((model_name, score_mean, score_std, grid.best_params_))\n",
    "    print('{} f1:{:1.3f} std: {:1.3f}, using {}'.format(model_name, score_mean, score_std, grid.best_params_))\n",
    "    print('------------------------------------------------')"
   ]
  },
  {
   "cell_type": "code",
   "execution_count": 49,
   "metadata": {},
   "outputs": [
    {
     "data": {
      "text/html": [
       "<div>\n",
       "<style scoped>\n",
       "    .dataframe tbody tr th:only-of-type {\n",
       "        vertical-align: middle;\n",
       "    }\n",
       "\n",
       "    .dataframe tbody tr th {\n",
       "        vertical-align: top;\n",
       "    }\n",
       "\n",
       "    .dataframe thead th {\n",
       "        text-align: right;\n",
       "    }\n",
       "</style>\n",
       "<table border=\"1\" class=\"dataframe\">\n",
       "  <thead>\n",
       "    <tr style=\"text-align: right;\">\n",
       "      <th></th>\n",
       "      <th>f1_mean</th>\n",
       "      <th>f1_std</th>\n",
       "    </tr>\n",
       "    <tr>\n",
       "      <th>model</th>\n",
       "      <th></th>\n",
       "      <th></th>\n",
       "    </tr>\n",
       "  </thead>\n",
       "  <tbody>\n",
       "    <tr>\n",
       "      <th>LogisticRegression</th>\n",
       "      <td>0.503659</td>\n",
       "      <td>0.026129</td>\n",
       "    </tr>\n",
       "    <tr>\n",
       "      <th>MultinomialNB</th>\n",
       "      <td>0.231825</td>\n",
       "      <td>0.057562</td>\n",
       "    </tr>\n",
       "    <tr>\n",
       "      <th>LinearSVC</th>\n",
       "      <td>0.434033</td>\n",
       "      <td>0.026671</td>\n",
       "    </tr>\n",
       "    <tr>\n",
       "      <th>RandomForestClassifier</th>\n",
       "      <td>0.516495</td>\n",
       "      <td>0.039120</td>\n",
       "    </tr>\n",
       "  </tbody>\n",
       "</table>\n",
       "</div>"
      ],
      "text/plain": [
       "                         f1_mean    f1_std\n",
       "model                                     \n",
       "LogisticRegression      0.503659  0.026129\n",
       "MultinomialNB           0.231825  0.057562\n",
       "LinearSVC               0.434033  0.026671\n",
       "RandomForestClassifier  0.516495  0.039120"
      ]
     },
     "execution_count": 49,
     "metadata": {},
     "output_type": "execute_result"
    }
   ],
   "source": [
    "cv_df = pd.DataFrame(cv_res, columns=['model', 'f1_mean', 'f1_std', 'best_params']).set_index('model')\n",
    "cv_df[['f1_mean', 'f1_std']]"
   ]
  },
  {
   "cell_type": "markdown",
   "metadata": {},
   "source": [
    "# Model Evaluation"
   ]
  },
  {
   "cell_type": "markdown",
   "metadata": {},
   "source": [
    "### Compute TF-IDF features"
   ]
  },
  {
   "cell_type": "code",
   "execution_count": 50,
   "metadata": {},
   "outputs": [
    {
     "name": "stdout",
     "output_type": "stream",
     "text": [
      "Each of the 7001 documents is represented by 28963 features (TF-IDF score of unigrams and bigrams)\n"
     ]
    }
   ],
   "source": [
    "tfidf = TfidfVectorizer(min_df=3, max_features=None, \n",
    "            strip_accents='unicode', analyzer='word', token_pattern=r'\\w{1,}',\n",
    "            ngram_range=(1, 3), use_idf=1, smooth_idf=1, sublinear_tf=1,\n",
    "            stop_words = None, lowercase=False)\n",
    "\n",
    "tfidf.fit(X_train)\n",
    "# transform each document into a vectorv\n",
    "X_train_tfidf = tfidf.transform(X_train).toarray()\n",
    "X_test_tfidf = tfidf.transform(X_test).toarray()\n",
    "\n",
    "print('Each of the %d documents is represented by %d features (TF-IDF score of unigrams and bigrams)' %(X_train_tfidf.shape))"
   ]
  },
  {
   "cell_type": "markdown",
   "metadata": {},
   "source": [
    "### Fit Model"
   ]
  },
  {
   "cell_type": "code",
   "execution_count": 72,
   "metadata": {},
   "outputs": [],
   "source": [
    "# model = LogisticRegression(C=1, penalty='l2', class_weight='balanced', random_state=seed)\n",
    "model = LinearSVC(C=1, penalty='l2', class_weight='balanced', loss='squared_hinge', random_state=seed)\n",
    "model.fit(X_train_tfidf, y_train)\n",
    "y_pred = model.predict(X_test_tfidf)"
   ]
  },
  {
   "cell_type": "markdown",
   "metadata": {},
   "source": [
    "### Evaluate Model"
   ]
  },
  {
   "cell_type": "code",
   "execution_count": 73,
   "metadata": {},
   "outputs": [
    {
     "name": "stdout",
     "output_type": "stream",
     "text": [
      "*Evaluation on test data, LinearSVC*\n",
      "f1:  0.6666666666666666\n",
      "Precision:  0.7685589519650655\n",
      "Recall:  0.5886287625418061\n"
     ]
    }
   ],
   "source": [
    "precision, recall, f1, _ = precision_recall_fscore_support(y_test, y_pred, average='binary', beta=1)\n",
    "print('*Evaluation on test data, {}*'.format(model.__class__.__name__))\n",
    "print('f1: ', f1)\n",
    "print('Precision: ', precision)\n",
    "print('Recall: ', recall)"
   ]
  },
  {
   "cell_type": "markdown",
   "metadata": {},
   "source": [
    "### Confusion Matrix"
   ]
  },
  {
   "cell_type": "code",
   "execution_count": 74,
   "metadata": {},
   "outputs": [
    {
     "data": {
      "image/png": "[encoded data removed]",
      "text/plain": [
       "<Figure size 360x360 with 2 Axes>"
      ]
     },
     "metadata": {
      "needs_background": "light"
     },
     "output_type": "display_data"
    }
   ],
   "source": [
    "conf_mat = confusion_matrix(y_test, y_pred)\n",
    "fig, ax = plt.subplots(figsize=(5,5))\n",
    "labels = df[label_column].unique()\n",
    "sns.heatmap(conf_mat, annot=True, cmap=\"Blues\", fmt='d',\n",
    "            xticklabels=labels, yticklabels=labels)\n",
    "plt.ylabel('Actual')\n",
    "plt.xlabel('Predicted')\n",
    "plt.title(\"CONFUSION MATRIX - {}\".format(model.__class__.__name__), size=14);"
   ]
  },
  {
   "cell_type": "markdown",
   "metadata": {},
   "source": [
    "### Misclassified test items"
   ]
  },
  {
   "cell_type": "code",
   "execution_count": 75,
   "metadata": {},
   "outputs": [
    {
     "name": "stdout",
     "output_type": "stream",
     "text": [
      "Misclassified test items:\n"
     ]
    },
    {
     "data": {
      "text/html": [
       "<div>\n",
       "<style scoped>\n",
       "    .dataframe tbody tr th:only-of-type {\n",
       "        vertical-align: middle;\n",
       "    }\n",
       "\n",
       "    .dataframe tbody tr th {\n",
       "        vertical-align: top;\n",
       "    }\n",
       "\n",
       "    .dataframe thead th {\n",
       "        text-align: right;\n",
       "    }\n",
       "</style>\n",
       "<table border=\"1\" class=\"dataframe\">\n",
       "  <thead>\n",
       "    <tr style=\"text-align: right;\">\n",
       "      <th></th>\n",
       "      <th>text_test</th>\n",
       "      <th>y_test</th>\n",
       "    </tr>\n",
       "  </thead>\n",
       "  <tbody>\n",
       "    <tr>\n",
       "      <th>0</th>\n",
       "      <td>thank found wonder seri avail dvd enough said ...</td>\n",
       "      <td>0</td>\n",
       "    </tr>\n",
       "    <tr>\n",
       "      <th>1</th>\n",
       "      <td>realli surpris book publish deal ahp ahp ahp w...</td>\n",
       "      <td>1</td>\n",
       "    </tr>\n",
       "    <tr>\n",
       "      <th>2</th>\n",
       "      <td>thought book much humor adventer account remin...</td>\n",
       "      <td>0</td>\n",
       "    </tr>\n",
       "    <tr>\n",
       "      <th>3</th>\n",
       "      <td>'s call elect fraud media ever job hear lot nu...</td>\n",
       "      <td>1</td>\n",
       "    </tr>\n",
       "    <tr>\n",
       "      <th>4</th>\n",
       "      <td>go yet anoth attempt rip us fan offnumi care n...</td>\n",
       "      <td>1</td>\n",
       "    </tr>\n",
       "    <tr>\n",
       "      <th>...</th>\n",
       "      <td>...</td>\n",
       "      <td>...</td>\n",
       "    </tr>\n",
       "    <tr>\n",
       "      <th>171</th>\n",
       "      <td>book kill famili caus uncontrol fatal seizur w...</td>\n",
       "      <td>1</td>\n",
       "    </tr>\n",
       "    <tr>\n",
       "      <th>172</th>\n",
       "      <td>author build conceptu histori clearli explain ...</td>\n",
       "      <td>0</td>\n",
       "    </tr>\n",
       "    <tr>\n",
       "      <th>173</th>\n",
       "      <td>bought num fleec differ size size fleec proper...</td>\n",
       "      <td>1</td>\n",
       "    </tr>\n",
       "    <tr>\n",
       "      <th>174</th>\n",
       "      <td>profession librari would complet without book</td>\n",
       "      <td>0</td>\n",
       "    </tr>\n",
       "    <tr>\n",
       "      <th>175</th>\n",
       "      <td>quit simpli amaz inspir thoroughli fun book wo...</td>\n",
       "      <td>0</td>\n",
       "    </tr>\n",
       "  </tbody>\n",
       "</table>\n",
       "<p>176 rows × 2 columns</p>\n",
       "</div>"
      ],
      "text/plain": [
       "                                             text_test  y_test\n",
       "0    thank found wonder seri avail dvd enough said ...       0\n",
       "1    realli surpris book publish deal ahp ahp ahp w...       1\n",
       "2    thought book much humor adventer account remin...       0\n",
       "3    's call elect fraud media ever job hear lot nu...       1\n",
       "4    go yet anoth attempt rip us fan offnumi care n...       1\n",
       "..                                                 ...     ...\n",
       "171  book kill famili caus uncontrol fatal seizur w...       1\n",
       "172  author build conceptu histori clearli explain ...       0\n",
       "173  bought num fleec differ size size fleec proper...       1\n",
       "174      profession librari would complet without book       0\n",
       "175  quit simpli amaz inspir thoroughli fun book wo...       0\n",
       "\n",
       "[176 rows x 2 columns]"
      ]
     },
     "execution_count": 75,
     "metadata": {},
     "output_type": "execute_result"
    }
   ],
   "source": [
    "misclassified_idx = np.where(y_test != y_pred)\n",
    "misclf_df = pd.DataFrame({'text_test':X_test[misclassified_idx], 'y_test': y_test[misclassified_idx]})\n",
    "print('Misclassified test items:')\n",
    "misclf_df"
   ]
  },
  {
   "cell_type": "code",
   "execution_count": null,
   "metadata": {},
   "outputs": [],
   "source": []
  }
 ],
 "metadata": {
  "kernelspec": {
   "display_name": "Python 3",
   "language": "python",
   "name": "python3"
  },
  "language_info": {
   "codemirror_mode": {
    "name": "ipython",
    "version": 3
   },
   "file_extension": ".py",
   "mimetype": "text/x-python",
   "name": "python",
   "nbconvert_exporter": "python",
   "pygments_lexer": "ipython3",
   "version": "3.7.3"
  }
 },
 "nbformat": 4,
 "nbformat_minor": 4
}
