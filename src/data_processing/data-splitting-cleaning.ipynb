{
 "cells": [
  {
   "cell_type": "markdown",
   "metadata": {},
   "source": [
    "# Text cleaning and Data splitting"
   ]
  },
  {
   "cell_type": "code",
   "execution_count": 31,
   "metadata": {},
   "outputs": [],
   "source": [
    "from gensim.models import Phrases\n",
    "from nltk.corpus import stopwords\n",
    "from nltk.stem.porter import PorterStemmer\n",
    "from nltk.stem import WordNetLemmatizer\n",
    "import pandas as pd\n",
    "import numpy as np\n",
    "import nltk\n",
    "import string\n",
    "import re\n",
    "from collections import Counter\n",
    "\n",
    "# local\n",
    "from text_cleaner import Cleaner\n",
    "\n",
    "seed=2020"
   ]
  },
  {
   "cell_type": "code",
   "execution_count": 32,
   "metadata": {},
   "outputs": [
    {
     "data": {
      "text/html": [
       "<div>\n",
       "<style scoped>\n",
       "    .dataframe tbody tr th:only-of-type {\n",
       "        vertical-align: middle;\n",
       "    }\n",
       "\n",
       "    .dataframe tbody tr th {\n",
       "        vertical-align: top;\n",
       "    }\n",
       "\n",
       "    .dataframe thead th {\n",
       "        text-align: right;\n",
       "    }\n",
       "</style>\n",
       "<table border=\"1\" class=\"dataframe\">\n",
       "  <thead>\n",
       "    <tr style=\"text-align: right;\">\n",
       "      <th></th>\n",
       "      <th>candidate</th>\n",
       "      <th>candidate:confidence</th>\n",
       "      <th>relevant_yn</th>\n",
       "      <th>relevant_yn:confidence</th>\n",
       "      <th>sentiment</th>\n",
       "      <th>sentiment:confidence</th>\n",
       "      <th>subject_matter</th>\n",
       "      <th>subject_matter:confidence</th>\n",
       "      <th>candidate_gold</th>\n",
       "      <th>name</th>\n",
       "      <th>relevant_yn_gold</th>\n",
       "      <th>retweet_count</th>\n",
       "      <th>sentiment_gold</th>\n",
       "      <th>subject_matter_gold</th>\n",
       "      <th>text</th>\n",
       "      <th>tweet_coord</th>\n",
       "      <th>tweet_created</th>\n",
       "      <th>tweet_id</th>\n",
       "      <th>tweet_location</th>\n",
       "      <th>user_timezone</th>\n",
       "    </tr>\n",
       "  </thead>\n",
       "  <tbody>\n",
       "    <tr>\n",
       "      <th>0</th>\n",
       "      <td>No candidate mentioned</td>\n",
       "      <td>1.0</td>\n",
       "      <td>yes</td>\n",
       "      <td>1.0</td>\n",
       "      <td>Neutral</td>\n",
       "      <td>0.6578</td>\n",
       "      <td>None of the above</td>\n",
       "      <td>1.0</td>\n",
       "      <td>NaN</td>\n",
       "      <td>I_Am_Kenzi</td>\n",
       "      <td>NaN</td>\n",
       "      <td>5</td>\n",
       "      <td>NaN</td>\n",
       "      <td>NaN</td>\n",
       "      <td>RT @NancyLeeGrahn: How did everyone feel about...</td>\n",
       "      <td>NaN</td>\n",
       "      <td>8/7/15 9:54</td>\n",
       "      <td>6.296970e+17</td>\n",
       "      <td>NaN</td>\n",
       "      <td>Quito</td>\n",
       "    </tr>\n",
       "    <tr>\n",
       "      <th>1</th>\n",
       "      <td>Scott Walker</td>\n",
       "      <td>1.0</td>\n",
       "      <td>yes</td>\n",
       "      <td>1.0</td>\n",
       "      <td>Positive</td>\n",
       "      <td>0.6333</td>\n",
       "      <td>None of the above</td>\n",
       "      <td>1.0</td>\n",
       "      <td>NaN</td>\n",
       "      <td>PeacefulQuest</td>\n",
       "      <td>NaN</td>\n",
       "      <td>26</td>\n",
       "      <td>NaN</td>\n",
       "      <td>NaN</td>\n",
       "      <td>RT @ScottWalker: Didn't catch the full #GOPdeb...</td>\n",
       "      <td>NaN</td>\n",
       "      <td>8/7/15 9:54</td>\n",
       "      <td>6.296970e+17</td>\n",
       "      <td>NaN</td>\n",
       "      <td>NaN</td>\n",
       "    </tr>\n",
       "  </tbody>\n",
       "</table>\n",
       "</div>"
      ],
      "text/plain": [
       "                candidate  candidate:confidence relevant_yn  \\\n",
       "0  No candidate mentioned                   1.0         yes   \n",
       "1            Scott Walker                   1.0         yes   \n",
       "\n",
       "   relevant_yn:confidence sentiment  sentiment:confidence     subject_matter  \\\n",
       "0                     1.0   Neutral                0.6578  None of the above   \n",
       "1                     1.0  Positive                0.6333  None of the above   \n",
       "\n",
       "   subject_matter:confidence candidate_gold           name relevant_yn_gold  \\\n",
       "0                        1.0            NaN     I_Am_Kenzi              NaN   \n",
       "1                        1.0            NaN  PeacefulQuest              NaN   \n",
       "\n",
       "   retweet_count sentiment_gold subject_matter_gold  \\\n",
       "0              5            NaN                 NaN   \n",
       "1             26            NaN                 NaN   \n",
       "\n",
       "                                                text tweet_coord  \\\n",
       "0  RT @NancyLeeGrahn: How did everyone feel about...         NaN   \n",
       "1  RT @ScottWalker: Didn't catch the full #GOPdeb...         NaN   \n",
       "\n",
       "  tweet_created      tweet_id tweet_location user_timezone  \n",
       "0   8/7/15 9:54  6.296970e+17            NaN         Quito  \n",
       "1   8/7/15 9:54  6.296970e+17            NaN           NaN  "
      ]
     },
     "execution_count": 32,
     "metadata": {},
     "output_type": "execute_result"
    }
   ],
   "source": [
    "dir_in = '../../data/raw/label-smoothing/'\n",
    "dir_out = '../../data/clean/label-smoothing/'\n",
    "dataset_name = '+gop_rel_only'\n",
    "\n",
    "df = pd.read_csv(dir_in + dataset_name + '.csv', encoding = \"ISO-8859-1\")\n",
    "df.head(2)"
   ]
  },
  {
   "cell_type": "code",
   "execution_count": 33,
   "metadata": {},
   "outputs": [
    {
     "data": {
      "text/plain": [
       "Text(0, 0.5, 'Counts')"
      ]
     },
     "execution_count": 33,
     "metadata": {},
     "output_type": "execute_result"
    },
    {
     "data": {
      "image/png": "[encoded data removed]",
      "text/plain": [
       "<Figure size 576x360 with 1 Axes>"
      ]
     },
     "metadata": {
      "needs_background": "light"
     },
     "output_type": "display_data"
    }
   ],
   "source": [
    "ax= df['sentiment:confidence'].hist(bins=20, figsize=(8,5))\n",
    "ax.set_title('gop_rel_only', fontsize=17)\n",
    "ax.set_xlabel('Aggregated crowd confidence', fontsize=15)\n",
    "ax.set_ylabel('Counts', fontsize=15)"
   ]
  },
  {
   "cell_type": "markdown",
   "metadata": {},
   "source": [
    "## Transform data"
   ]
  },
  {
   "cell_type": "code",
   "execution_count": 34,
   "metadata": {},
   "outputs": [
    {
     "name": "stdout",
     "output_type": "stream",
     "text": [
      "13871\n"
     ]
    }
   ],
   "source": [
    "print(len(df))"
   ]
  },
  {
   "cell_type": "code",
   "execution_count": 35,
   "metadata": {},
   "outputs": [
    {
     "name": "stdout",
     "output_type": "stream",
     "text": [
      "12209\n"
     ]
    }
   ],
   "source": [
    "# df = df[(df['_golden'] == False) & (df['sentiment'] != \"Neutral\") & (df['sentiment:confidence'] > 0.6)]\n",
    "df = df[df['sentiment:confidence'] > 0.6]\n",
    "print(len(df))"
   ]
  },
  {
   "cell_type": "markdown",
   "metadata": {},
   "source": [
    "### Plot Classes distribution"
   ]
  },
  {
   "cell_type": "code",
   "execution_count": 36,
   "metadata": {},
   "outputs": [
    {
     "data": {
      "text/plain": [
       "<matplotlib.axes._subplots.AxesSubplot at 0x1304e4908>"
      ]
     },
     "execution_count": 36,
     "metadata": {},
     "output_type": "execute_result"
    },
    {
     "data": {
      "image/png": "[encoded data removed]",
      "text/plain": [
       "<Figure size 432x288 with 1 Axes>"
      ]
     },
     "metadata": {
      "needs_background": "light"
     },
     "output_type": "display_data"
    }
   ],
   "source": [
    "df['sentiment'].value_counts().plot.bar(title='Classes distribution')"
   ]
  },
  {
   "cell_type": "markdown",
   "metadata": {},
   "source": [
    "### Assign labels to categiry column"
   ]
  },
  {
   "cell_type": "code",
   "execution_count": 37,
   "metadata": {},
   "outputs": [],
   "source": [
    "def f(x):\n",
    "    if x =='Negative': return 0\n",
    "    if x =='Positive': return 1\n",
    "    if x == 'Neutral': return 2\n",
    "df['label'] = df['sentiment'].apply(f)\n",
    "# df['text'] = df['headline'] +'. ' + df['text']"
   ]
  },
  {
   "cell_type": "markdown",
   "metadata": {},
   "source": [
    "### Clean data basics and stemming"
   ]
  },
  {
   "cell_type": "code",
   "execution_count": 38,
   "metadata": {},
   "outputs": [],
   "source": [
    "cln_stem = Cleaner(with_stemming=True)\n",
    "data_cleaned_stem = []\n",
    "for _, row in df.iterrows():\n",
    "    text = row['text']\n",
    "    label = row['label']\n",
    "    if label == 0:\n",
    "        conf0 = row['sentiment:confidence']\n",
    "        conf1 = (1 - conf0) / 2\n",
    "        conf2 = (1 - conf0) / 2\n",
    "    if label == 1:\n",
    "        conf1 = row['sentiment:confidence']\n",
    "        conf0 = (1 - conf1) / 2\n",
    "        conf2 = (1 - conf1) / 2\n",
    "    if label == 2:\n",
    "        conf2 = row['sentiment:confidence']\n",
    "        conf0 = (1 - conf2) / 2\n",
    "        conf1 = (1 - conf2) / 2\n",
    "    \n",
    "#     data_cleaned_stem.append([cln_stem.clean_text(text), label, conf0, conf1, conf2])\n",
    "    data_cleaned_stem.append([text, label, conf0, conf1, conf2])\n",
    "\n",
    "df = pd.DataFrame(data_cleaned_stem, columns=['text', 'label', 'conf0', 'conf1', 'conf2'])\n",
    "\n",
    "df.head(2)"
   ]
  },
  {
   "cell_type": "markdown",
   "metadata": {},
   "source": [
    "### Train Test Val splitting"
   ]
  },
  {
   "cell_type": "code",
   "execution_count": 41,
   "metadata": {},
   "outputs": [
    {
     "name": "stderr",
     "output_type": "stream",
     "text": [
      "/Users/evgeny/Documents/wonderful_programming/crowd_ai_env/lib/python3.7/site-packages/ipykernel_launcher.py:15: FutureWarning: \n",
      ".ix is deprecated. Please use\n",
      ".loc for label based indexing or\n",
      ".iloc for positional indexing\n",
      "\n",
      "See the documentation here:\n",
      "http://pandas.pydata.org/pandas-docs/stable/user_guide/indexing.html#ix-indexer-is-deprecated\n",
      "  from ipykernel import kernelapp as app\n",
      "/Users/evgeny/Documents/wonderful_programming/crowd_ai_env/lib/python3.7/site-packages/ipykernel_launcher.py:32: FutureWarning: \n",
      ".ix is deprecated. Please use\n",
      ".loc for label based indexing or\n",
      ".iloc for positional indexing\n",
      "\n",
      "See the documentation here:\n",
      "http://pandas.pydata.org/pandas-docs/stable/user_guide/indexing.html#ix-indexer-is-deprecated\n"
     ]
    }
   ],
   "source": [
    "from sklearn.utils import shuffle\n",
    "\n",
    "# Test\n",
    "idx_neg = np.where(df.label.values == 0)[0]\n",
    "idx_pos = np.where(df.label.values == 1)[0]\n",
    "idx_nut = np.where(df.label.values == 2)[0]\n",
    "np.random.seed(seed=2020)\n",
    "test_idx_neg = np.random.choice(idx_neg, size=180, replace=False)\n",
    "np.random.seed(seed=2020)\n",
    "test_idx_pos = np.random.choice(idx_pos, size=180, replace=False)\n",
    "np.random.seed(seed=2020)\n",
    "test_idx_nut = np.random.choice(idx_nut, size=180, replace=False)\n",
    "test_indx = np.concatenate((test_idx_neg, test_idx_pos, test_idx_nut))\n",
    "test_indx = shuffle(test_indx, random_state=seed)\n",
    "df_test = df.ix[test_indx]\n",
    "\n",
    "\n",
    "# Validation\n",
    "df.drop(test_indx).reset_index(drop=True)\n",
    "idx_neg = np.where(df.label.values == 0)[0]\n",
    "idx_pos = np.where(df.label.values == 1)[0]\n",
    "idx_nut = np.where(df.label.values == 2)[0]\n",
    "\n",
    "np.random.seed(seed=2020)\n",
    "val_idx_neg = np.random.choice(idx_neg, size=180, replace=False)\n",
    "np.random.seed(seed=2020)\n",
    "val_idx_pos = np.random.choice(idx_pos, size=180, replace=False)\n",
    "np.random.seed(seed=2020)\n",
    "val_idx_nut = np.random.choice(idx_nut, size=180, replace=False)\n",
    "val_indx = np.concatenate((val_idx_neg, val_idx_pos, val_idx_nut))\n",
    "val_indx = shuffle(val_indx, random_state=seed)\n",
    "df_val = df.ix[val_indx]\n",
    "\n",
    "df_train = df.drop(val_indx).reset_index(drop=True)\n",
    "\n",
    "\n",
    "# save data\n",
    "df_train.to_csv(dir_out+ 'train_' + dataset_name +'_mclass.csv', index=False)\n",
    "df_val.to_csv(dir_out+ 'val_' + dataset_name +'_mclass.csv', index=False)\n",
    "df_test.to_csv(dir_out+ 'test_' + dataset_name +'_mclass.csv', index=False)"
   ]
  },
  {
   "cell_type": "code",
   "execution_count": 28,
   "metadata": {},
   "outputs": [
    {
     "data": {
      "text/plain": [
       "2    180\n",
       "1    180\n",
       "0    180\n",
       "Name: label, dtype: int64"
      ]
     },
     "execution_count": 28,
     "metadata": {},
     "output_type": "execute_result"
    }
   ],
   "source": [
    "df_val.label.value_counts()"
   ]
  },
  {
   "cell_type": "markdown",
   "metadata": {},
   "source": [
    "### Train stat"
   ]
  },
  {
   "cell_type": "code",
   "execution_count": 51,
   "metadata": {},
   "outputs": [
    {
     "name": "stdout",
     "output_type": "stream",
     "text": [
      "total:  11669\n",
      "counts:\n",
      "0    7699\n",
      "2    2349\n",
      "1    1621\n",
      "Name: label, dtype: int64\n",
      "%:\n",
      "0    0.659782\n",
      "2    0.201303\n",
      "1    0.138915\n",
      "Name: label, dtype: float64\n"
     ]
    }
   ],
   "source": [
    "print('total: ', len(df_train.label))\n",
    "print(\"counts:\")\n",
    "print(df_train.label.value_counts())\n",
    "print(\"%:\")\n",
    "print(df_train.label.value_counts()/len(df_train.label))\n",
    "\n"
   ]
  },
  {
   "cell_type": "code",
   "execution_count": null,
   "metadata": {},
   "outputs": [],
   "source": []
  }
 ],
 "metadata": {
  "kernelspec": {
   "display_name": "Python 3",
   "language": "python",
   "name": "python3"
  },
  "language_info": {
   "codemirror_mode": {
    "name": "ipython",
    "version": 3
   },
   "file_extension": ".py",
   "mimetype": "text/x-python",
   "name": "python",
   "nbconvert_exporter": "python",
   "pygments_lexer": "ipython3",
   "version": "3.7.3"
  }
 },
 "nbformat": 4,
 "nbformat_minor": 4
}
