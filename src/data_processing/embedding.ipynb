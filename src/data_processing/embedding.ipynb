{
 "cells": [
  {
   "cell_type": "markdown",
   "metadata": {},
   "source": [
    "# Text embedding"
   ]
  },
  {
   "cell_type": "code",
   "execution_count": 1,
   "metadata": {},
   "outputs": [],
   "source": [
    "import pandas as pd\n",
    "import torch\n",
    "import spacy\n",
    "from tqdm.notebook import tqdm\n",
    "\n",
    "from bert import BERT"
   ]
  },
  {
   "cell_type": "code",
   "execution_count": 2,
   "metadata": {},
   "outputs": [],
   "source": [
    "dir_in = '../../data/raw/'\n",
    "dir_out = '../../data/embeded/'\n",
    "dataset_name = '10000_amazon_reviews'\n",
    "\n",
    "df = pd.read_csv(dir_in + dataset_name + '.csv')\n",
    "text_column = 'text'\n",
    "label_column = 'is_negative'"
   ]
  },
  {
   "cell_type": "code",
   "execution_count": 3,
   "metadata": {},
   "outputs": [
    {
     "data": {
      "text/html": [
       "<div>\n",
       "<style scoped>\n",
       "    .dataframe tbody tr th:only-of-type {\n",
       "        vertical-align: middle;\n",
       "    }\n",
       "\n",
       "    .dataframe tbody tr th {\n",
       "        vertical-align: top;\n",
       "    }\n",
       "\n",
       "    .dataframe thead th {\n",
       "        text-align: right;\n",
       "    }\n",
       "</style>\n",
       "<table border=\"1\" class=\"dataframe\">\n",
       "  <thead>\n",
       "    <tr style=\"text-align: right;\">\n",
       "      <th></th>\n",
       "      <th>text</th>\n",
       "      <th>is_negative</th>\n",
       "    </tr>\n",
       "  </thead>\n",
       "  <tbody>\n",
       "    <tr>\n",
       "      <th>0</th>\n",
       "      <td>I ordered these short for my husband and he lo...</td>\n",
       "      <td>0</td>\n",
       "    </tr>\n",
       "    <tr>\n",
       "      <th>1</th>\n",
       "      <td>NineWest certainly know how to make great shoe...</td>\n",
       "      <td>0</td>\n",
       "    </tr>\n",
       "    <tr>\n",
       "      <th>2</th>\n",
       "      <td>I looked all over for these shapers.  These ar...</td>\n",
       "      <td>0</td>\n",
       "    </tr>\n",
       "  </tbody>\n",
       "</table>\n",
       "</div>"
      ],
      "text/plain": [
       "                                                text  is_negative\n",
       "0  I ordered these short for my husband and he lo...            0\n",
       "1  NineWest certainly know how to make great shoe...            0\n",
       "2  I looked all over for these shapers.  These ar...            0"
      ]
     },
     "execution_count": 3,
     "metadata": {},
     "output_type": "execute_result"
    }
   ],
   "source": [
    "df.head(3)"
   ]
  },
  {
   "cell_type": "markdown",
   "metadata": {},
   "source": [
    "## Compute BERT embeddings\n",
    "1. Split a document into sentences \n",
    "2. Compute embeddings for each token of a sentence (last 12th layer output) \n",
    "3. Average all token embeddings of a sentence to compute BERT sentence embedding.\n",
    "4. Average all Sentence embeddings to compute document representation.\n"
   ]
  },
  {
   "cell_type": "code",
   "execution_count": 5,
   "metadata": {},
   "outputs": [
    {
     "name": "stderr",
     "output_type": "stream",
     "text": [
      "The pre-trained model you are loading is a cased model but you have not set `do_lower_case` to False. We are setting `do_lower_case=False` for you but you may want to check this behavior.\n"
     ]
    }
   ],
   "source": [
    "# initialize pre-trained BERT model\n",
    "bert = BERT()\n",
    "\n",
    "# # python3 -m spacy download en_core_web_sm\n",
    "spacy_nlp = spacy.load('en_core_web_sm')"
   ]
  },
  {
   "cell_type": "code",
   "execution_count": 12,
   "metadata": {},
   "outputs": [
    {
     "data": {
      "application/vnd.jupyter.widget-view+json": {
       "model_id": "1cfc47d9023e4d2a93cb07cf00659c01",
       "version_major": 2,
       "version_minor": 0
      },
      "text/plain": [
       "HBox(children=(FloatProgress(value=0.0, max=10002.0), HTML(value='')))"
      ]
     },
     "metadata": {},
     "output_type": "display_data"
    },
    {
     "name": "stdout",
     "output_type": "stream",
     "text": [
      "\n"
     ]
    }
   ],
   "source": [
    "data_new = []\n",
    "for _, row in tqdm(df.iterrows(), total=len(df), disable=False):\n",
    "    label = row[label_column]\n",
    "    text = row[text_column]\n",
    "    sentences = spacy_nlp(text).sents\n",
    "    sentences_vecs = []\n",
    "    for s in sentences:\n",
    "        s_vec = bert.compute_sentence_embedding(str(s))\n",
    "        sentences_vecs.append(s_vec)\n",
    "    sentences_vecs = torch.stack(sentences_vecs)\n",
    "    text_embedding = torch.mean(sentences_vecs, dim=0).tolist()\n",
    "    data_new.append([text_embedding, label])\n",
    "\n",
    "pd.DataFrame(data_new, columns=['bert_embedding_mean', 'label']).to_csv(dir_out+dataset_name+'_bert.csv', index=False)"
   ]
  },
  {
   "cell_type": "code",
   "execution_count": null,
   "metadata": {},
   "outputs": [],
   "source": []
  }
 ],
 "metadata": {
  "kernelspec": {
   "display_name": "Python 3",
   "language": "python",
   "name": "python3"
  },
  "language_info": {
   "codemirror_mode": {
    "name": "ipython",
    "version": 3
   },
   "file_extension": ".py",
   "mimetype": "text/x-python",
   "name": "python",
   "nbconvert_exporter": "python",
   "pygments_lexer": "ipython3",
   "version": "3.7.3"
  }
 },
 "nbformat": 4,
 "nbformat_minor": 4
}
