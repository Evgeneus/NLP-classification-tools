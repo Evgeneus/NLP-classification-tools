{
 "cells": [
  {
   "cell_type": "markdown",
   "metadata": {},
   "source": [
    "# Text cleaning"
   ]
  },
  {
   "cell_type": "code",
   "execution_count": 1,
   "metadata": {},
   "outputs": [],
   "source": [
    "from gensim.models import Phrases\n",
    "from nltk.corpus import stopwords\n",
    "from nltk.stem.porter import PorterStemmer\n",
    "from nltk.stem import WordNetLemmatizer\n",
    "import pandas as pd\n",
    "import nltk\n",
    "import string\n",
    "import re\n",
    "from collections import Counter\n",
    "\n",
    "# local\n",
    "from text_cleaner import Cleaner"
   ]
  },
  {
   "cell_type": "code",
   "execution_count": 15,
   "metadata": {},
   "outputs": [],
   "source": [
    "dir_in = '../../data/raw/'\n",
    "dir_out = '../../data/clean/'\n",
    "dataset_name = '10000_amazon_reviews'\n",
    "\n",
    "df = pd.read_csv(dir_in + dataset_name + '.csv')\n",
    "text_column = 'text'\n",
    "label_column = 'is_negative'"
   ]
  },
  {
   "cell_type": "markdown",
   "metadata": {},
   "source": [
    "### Plot Classes distribution"
   ]
  },
  {
   "cell_type": "code",
   "execution_count": 16,
   "metadata": {},
   "outputs": [
    {
     "data": {
      "text/plain": [
       "<matplotlib.axes._subplots.AxesSubplot at 0x132f009e8>"
      ]
     },
     "execution_count": 16,
     "metadata": {},
     "output_type": "execute_result"
    },
    {
     "data": {
      "image/png": "[encoded data removed]",
      "text/plain": [
       "<Figure size 432x288 with 1 Axes>"
      ]
     },
     "metadata": {
      "needs_background": "light"
     },
     "output_type": "display_data"
    }
   ],
   "source": [
    "df[label_column].value_counts().plot.bar(title='Classes distribution')"
   ]
  },
  {
   "cell_type": "markdown",
   "metadata": {},
   "source": [
    "### Clean data basics"
   ]
  },
  {
   "cell_type": "code",
   "execution_count": 17,
   "metadata": {},
   "outputs": [],
   "source": [
    "cln_basic = Cleaner()\n",
    "data_cleaned_basic = []\n",
    "for _, row in df.iterrows():\n",
    "    text = row[text_column]\n",
    "    label = row[label_column]\n",
    "    data_cleaned_basic.append([cln_basic.clean_text(text), label])\n",
    "\n",
    "pd.DataFrame(data_cleaned_basic, columns=['text', 'label']).to_csv(dir_out+dataset_name+'cleaned_basics.cscv', index=False)"
   ]
  },
  {
   "cell_type": "markdown",
   "metadata": {},
   "source": [
    "### Clean data basics and lematization"
   ]
  },
  {
   "cell_type": "code",
   "execution_count": 19,
   "metadata": {},
   "outputs": [],
   "source": [
    "cln_lematz = Cleaner(with_lematz=True)\n",
    "data_cleaned_lematz = []\n",
    "for _, row in df.iterrows():\n",
    "    text = row[text_column]\n",
    "    label = row[label_column]\n",
    "    data_cleaned_lematz.append([cln_lematz.clean_text(text), label])\n",
    "\n",
    "pd.DataFrame(data_cleaned_lematz, columns=['text', 'label']).to_csv(dir_out+dataset_name+'cleaned_lematz.cscv', index=False)"
   ]
  },
  {
   "cell_type": "markdown",
   "metadata": {},
   "source": [
    "### Clean data basics and stemming"
   ]
  },
  {
   "cell_type": "code",
   "execution_count": 20,
   "metadata": {},
   "outputs": [],
   "source": [
    "cln_stem = Cleaner(with_stemming=True)\n",
    "data_cleaned_stem = []\n",
    "for _, row in df.iterrows():\n",
    "    text = row[text_column]\n",
    "    label = row[label_column]\n",
    "    data_cleaned_stem.append([cln_stem.clean_text(text), label])\n",
    "\n",
    "pd.DataFrame(data_cleaned_stem, columns=['text', 'label']).to_csv(dir_out+dataset_name+'cleaned_stem.cscv', index=False)"
   ]
  },
  {
   "cell_type": "code",
   "execution_count": null,
   "metadata": {},
   "outputs": [],
   "source": []
  }
 ],
 "metadata": {
  "kernelspec": {
   "display_name": "Python 3",
   "language": "python",
   "name": "python3"
  },
  "language_info": {
   "codemirror_mode": {
    "name": "ipython",
    "version": 3
   },
   "file_extension": ".py",
   "mimetype": "text/x-python",
   "name": "python",
   "nbconvert_exporter": "python",
   "pygments_lexer": "ipython3",
   "version": "3.7.3"
  }
 },
 "nbformat": 4,
 "nbformat_minor": 4
}
